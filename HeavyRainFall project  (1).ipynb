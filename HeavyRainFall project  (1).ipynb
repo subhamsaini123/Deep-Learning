{
 "cells": [
  {
   "cell_type": "code",
   "execution_count": 1,
   "id": "b034604c",
   "metadata": {},
   "outputs": [],
   "source": [
    "import numpy as np\n",
    "import pandas as pd"
   ]
  },
  {
   "cell_type": "code",
   "execution_count": 2,
   "id": "1a92041d",
   "metadata": {},
   "outputs": [
    {
     "data": {
      "text/html": [
       "<div>\n",
       "<style scoped>\n",
       "    .dataframe tbody tr th:only-of-type {\n",
       "        vertical-align: middle;\n",
       "    }\n",
       "\n",
       "    .dataframe tbody tr th {\n",
       "        vertical-align: top;\n",
       "    }\n",
       "\n",
       "    .dataframe thead th {\n",
       "        text-align: right;\n",
       "    }\n",
       "</style>\n",
       "<table border=\"1\" class=\"dataframe\">\n",
       "  <thead>\n",
       "    <tr style=\"text-align: right;\">\n",
       "      <th></th>\n",
       "      <th>Unnamed: 0</th>\n",
       "      <th>date</th>\n",
       "      <th>month</th>\n",
       "      <th>day</th>\n",
       "      <th>previous_rainfall</th>\n",
       "      <th>rainfall</th>\n",
       "    </tr>\n",
       "  </thead>\n",
       "  <tbody>\n",
       "    <tr>\n",
       "      <th>0</th>\n",
       "      <td>0</td>\n",
       "      <td>2022-01-01</td>\n",
       "      <td>1</td>\n",
       "      <td>1</td>\n",
       "      <td>54.881350</td>\n",
       "      <td>50.106317</td>\n",
       "    </tr>\n",
       "    <tr>\n",
       "      <th>1</th>\n",
       "      <td>1</td>\n",
       "      <td>2022-01-02</td>\n",
       "      <td>1</td>\n",
       "      <td>2</td>\n",
       "      <td>71.518937</td>\n",
       "      <td>37.638916</td>\n",
       "    </tr>\n",
       "    <tr>\n",
       "      <th>2</th>\n",
       "      <td>2</td>\n",
       "      <td>2022-01-03</td>\n",
       "      <td>1</td>\n",
       "      <td>3</td>\n",
       "      <td>60.276338</td>\n",
       "      <td>36.491184</td>\n",
       "    </tr>\n",
       "    <tr>\n",
       "      <th>3</th>\n",
       "      <td>3</td>\n",
       "      <td>2022-01-04</td>\n",
       "      <td>1</td>\n",
       "      <td>4</td>\n",
       "      <td>54.488318</td>\n",
       "      <td>26.090450</td>\n",
       "    </tr>\n",
       "    <tr>\n",
       "      <th>4</th>\n",
       "      <td>4</td>\n",
       "      <td>2022-01-05</td>\n",
       "      <td>1</td>\n",
       "      <td>5</td>\n",
       "      <td>42.365480</td>\n",
       "      <td>49.597030</td>\n",
       "    </tr>\n",
       "  </tbody>\n",
       "</table>\n",
       "</div>"
      ],
      "text/plain": [
       "   Unnamed: 0        date  month  day  previous_rainfall   rainfall\n",
       "0           0  2022-01-01      1    1          54.881350  50.106317\n",
       "1           1  2022-01-02      1    2          71.518937  37.638916\n",
       "2           2  2022-01-03      1    3          60.276338  36.491184\n",
       "3           3  2022-01-04      1    4          54.488318  26.090450\n",
       "4           4  2022-01-05      1    5          42.365480  49.597030"
      ]
     },
     "execution_count": 2,
     "metadata": {},
     "output_type": "execute_result"
    }
   ],
   "source": [
    "df=pd.read_csv(\"C:\\\\Users\\\\subha\\\\Downloads\\\\HeavyRain.csv\")\n",
    "df.head()"
   ]
  },
  {
   "cell_type": "code",
   "execution_count": 4,
   "id": "6599d6f2",
   "metadata": {},
   "outputs": [],
   "source": [
    "from sklearn.model_selection import train_test_split\n",
    "from sklearn.preprocessing import MinMaxScaler"
   ]
  },
  {
   "cell_type": "code",
   "execution_count": 6,
   "id": "46484c05",
   "metadata": {},
   "outputs": [],
   "source": [
    "from tensorflow.keras.models import Sequential\n",
    "from tensorflow.keras.layers import Dense,LSTM"
   ]
  },
  {
   "cell_type": "code",
   "execution_count": 8,
   "id": "52fa480f",
   "metadata": {},
   "outputs": [],
   "source": [
    "sc=MinMaxScaler()\n",
    "df[[\"month\",\"day\",\"previous_rainfall\",\"rainfall\"]]=sc.fit_transform(df[[\"month\",\"day\",\"previous_rainfall\",\"rainfall\"]])"
   ]
  },
  {
   "cell_type": "code",
   "execution_count": 25,
   "id": "1cf3f050",
   "metadata": {},
   "outputs": [
    {
     "data": {
      "text/plain": [
       "array([[0.        , 0.        , 0.54798727],\n",
       "       [0.        , 0.03333333, 0.71493496],\n",
       "       [0.        , 0.06666667, 0.60212256],\n",
       "       ...,\n",
       "       [1.        , 0.93333333, 0.98802976],\n",
       "       [1.        , 0.96666667, 0.75917959],\n",
       "       [1.        , 1.        , 0.36308506]])"
      ]
     },
     "execution_count": 25,
     "metadata": {},
     "output_type": "execute_result"
    }
   ],
   "source": [
    "x=df[[\"month\",\"day\",\"previous_rainfall\"]].values\n",
    "x"
   ]
  },
  {
   "cell_type": "code",
   "execution_count": 27,
   "id": "aca388d4",
   "metadata": {},
   "outputs": [],
   "source": [
    "y=df[\"rainfall\"].values\n"
   ]
  },
  {
   "cell_type": "code",
   "execution_count": 15,
   "id": "9ecc41d4",
   "metadata": {},
   "outputs": [],
   "source": [
    "x_train,x_test,y_train,y_test=train_test_split(x,y,test_size=0.2,random_state=12)"
   ]
  },
  {
   "cell_type": "code",
   "execution_count": 17,
   "id": "0c7be83b",
   "metadata": {},
   "outputs": [],
   "source": [
    "model=Sequential()\n",
    "model.add(Dense(32,input_shape=(3,),activation=\"relu\"))\n",
    "model.add(Dense(64,activation=\"relu\"))\n",
    "model.add(Dense(1,activation=\"linear\"))\n",
    "\n"
   ]
  },
  {
   "cell_type": "code",
   "execution_count": 18,
   "id": "af5750ab",
   "metadata": {},
   "outputs": [
    {
     "name": "stdout",
     "output_type": "stream",
     "text": [
      "Epoch 1/50\n",
      "19/19 [==============================] - 1s 2ms/step - loss: 0.1343\n",
      "Epoch 2/50\n",
      "19/19 [==============================] - 0s 2ms/step - loss: 0.1028\n",
      "Epoch 3/50\n",
      "19/19 [==============================] - 0s 2ms/step - loss: 0.0982\n",
      "Epoch 4/50\n",
      "19/19 [==============================] - 0s 2ms/step - loss: 0.0957\n",
      "Epoch 5/50\n",
      "19/19 [==============================] - 0s 1ms/step - loss: 0.0939\n",
      "Epoch 6/50\n",
      "19/19 [==============================] - 0s 2ms/step - loss: 0.0910\n",
      "Epoch 7/50\n",
      "19/19 [==============================] - 0s 1ms/step - loss: 0.0901\n",
      "Epoch 8/50\n",
      "19/19 [==============================] - 0s 2ms/step - loss: 0.0893\n",
      "Epoch 9/50\n",
      "19/19 [==============================] - 0s 1ms/step - loss: 0.0872\n",
      "Epoch 10/50\n",
      "19/19 [==============================] - 0s 2ms/step - loss: 0.0872\n",
      "Epoch 11/50\n",
      "19/19 [==============================] - 0s 1ms/step - loss: 0.0875\n",
      "Epoch 12/50\n",
      "19/19 [==============================] - 0s 2ms/step - loss: 0.0859\n",
      "Epoch 13/50\n",
      "19/19 [==============================] - 0s 1ms/step - loss: 0.0878\n",
      "Epoch 14/50\n",
      "19/19 [==============================] - 0s 1ms/step - loss: 0.0854\n",
      "Epoch 15/50\n",
      "19/19 [==============================] - 0s 2ms/step - loss: 0.0850\n",
      "Epoch 16/50\n",
      "19/19 [==============================] - 0s 2ms/step - loss: 0.0851\n",
      "Epoch 17/50\n",
      "19/19 [==============================] - 0s 2ms/step - loss: 0.0849\n",
      "Epoch 18/50\n",
      "19/19 [==============================] - 0s 1ms/step - loss: 0.0852\n",
      "Epoch 19/50\n",
      "19/19 [==============================] - 0s 2ms/step - loss: 0.0844\n",
      "Epoch 20/50\n",
      "19/19 [==============================] - 0s 2ms/step - loss: 0.0842\n",
      "Epoch 21/50\n",
      "19/19 [==============================] - 0s 1ms/step - loss: 0.0840\n",
      "Epoch 22/50\n",
      "19/19 [==============================] - 0s 1ms/step - loss: 0.0846\n",
      "Epoch 23/50\n",
      "19/19 [==============================] - 0s 2ms/step - loss: 0.0852\n",
      "Epoch 24/50\n",
      "19/19 [==============================] - 0s 2ms/step - loss: 0.0847\n",
      "Epoch 25/50\n",
      "19/19 [==============================] - 0s 2ms/step - loss: 0.0840\n",
      "Epoch 26/50\n",
      "19/19 [==============================] - 0s 2ms/step - loss: 0.0834\n",
      "Epoch 27/50\n",
      "19/19 [==============================] - 0s 2ms/step - loss: 0.0837\n",
      "Epoch 28/50\n",
      "19/19 [==============================] - 0s 2ms/step - loss: 0.0840\n",
      "Epoch 29/50\n",
      "19/19 [==============================] - 0s 1ms/step - loss: 0.0840\n",
      "Epoch 30/50\n",
      "19/19 [==============================] - 0s 2ms/step - loss: 0.0837\n",
      "Epoch 31/50\n",
      "19/19 [==============================] - 0s 2ms/step - loss: 0.0832\n",
      "Epoch 32/50\n",
      "19/19 [==============================] - 0s 2ms/step - loss: 0.0833\n",
      "Epoch 33/50\n",
      "19/19 [==============================] - 0s 2ms/step - loss: 0.0843\n",
      "Epoch 34/50\n",
      "19/19 [==============================] - 0s 2ms/step - loss: 0.0829\n",
      "Epoch 35/50\n",
      "19/19 [==============================] - 0s 1ms/step - loss: 0.0844\n",
      "Epoch 36/50\n",
      "19/19 [==============================] - 0s 2ms/step - loss: 0.0846\n",
      "Epoch 37/50\n",
      "19/19 [==============================] - 0s 972us/step - loss: 0.0844\n",
      "Epoch 38/50\n",
      "19/19 [==============================] - 0s 2ms/step - loss: 0.0850\n",
      "Epoch 39/50\n",
      "19/19 [==============================] - 0s 1ms/step - loss: 0.0836\n",
      "Epoch 40/50\n",
      "19/19 [==============================] - 0s 2ms/step - loss: 0.0837\n",
      "Epoch 41/50\n",
      "19/19 [==============================] - 0s 2ms/step - loss: 0.0831\n",
      "Epoch 42/50\n",
      "19/19 [==============================] - 0s 2ms/step - loss: 0.0835\n",
      "Epoch 43/50\n",
      "19/19 [==============================] - 0s 2ms/step - loss: 0.0848\n",
      "Epoch 44/50\n",
      "19/19 [==============================] - 0s 1ms/step - loss: 0.0831\n",
      "Epoch 45/50\n",
      "19/19 [==============================] - 0s 1ms/step - loss: 0.0835\n",
      "Epoch 46/50\n",
      "19/19 [==============================] - 0s 2ms/step - loss: 0.0829\n",
      "Epoch 47/50\n",
      "19/19 [==============================] - 0s 2ms/step - loss: 0.0836\n",
      "Epoch 48/50\n",
      "19/19 [==============================] - 0s 2ms/step - loss: 0.0843\n",
      "Epoch 49/50\n",
      "19/19 [==============================] - 0s 2ms/step - loss: 0.0830\n",
      "Epoch 50/50\n",
      "19/19 [==============================] - 0s 2ms/step - loss: 0.0828\n"
     ]
    },
    {
     "data": {
      "text/plain": [
       "<keras.callbacks.History at 0x1c545ef3460>"
      ]
     },
     "execution_count": 18,
     "metadata": {},
     "output_type": "execute_result"
    }
   ],
   "source": [
    "model.compile(optimizer=\"adam\",loss=\"mean_squared_error\")\n",
    "model.fit(x_train,y_train,epochs=50,batch_size=32,verbose=1)"
   ]
  },
  {
   "cell_type": "code",
   "execution_count": 19,
   "id": "000ed54f",
   "metadata": {},
   "outputs": [
    {
     "name": "stdout",
     "output_type": "stream",
     "text": [
      "5/5 [==============================] - 0s 2ms/step\n"
     ]
    }
   ],
   "source": [
    "y_pred=model.predict(x_test)"
   ]
  },
  {
   "cell_type": "code",
   "execution_count": 20,
   "id": "08d07cfa",
   "metadata": {},
   "outputs": [],
   "source": [
    "from sklearn.metrics import mean_squared_error,mean_absolute_error"
   ]
  },
  {
   "cell_type": "code",
   "execution_count": 22,
   "id": "51201771",
   "metadata": {},
   "outputs": [
    {
     "data": {
      "text/plain": [
       "0.09730194741159373"
      ]
     },
     "execution_count": 22,
     "metadata": {},
     "output_type": "execute_result"
    }
   ],
   "source": [
    "mse=mean_squared_error(y_test,y_pred)\n",
    "mse"
   ]
  },
  {
   "cell_type": "code",
   "execution_count": 24,
   "id": "a8c874c4",
   "metadata": {},
   "outputs": [
    {
     "data": {
      "text/plain": [
       "0.27759805446926283"
      ]
     },
     "execution_count": 24,
     "metadata": {},
     "output_type": "execute_result"
    }
   ],
   "source": [
    "mae=mean_absolute_error(y_test,y_pred)\n",
    "mae"
   ]
  },
  {
   "cell_type": "code",
   "execution_count": null,
   "id": "ed5ad2bb",
   "metadata": {},
   "outputs": [],
   "source": []
  }
 ],
 "metadata": {
  "kernelspec": {
   "display_name": "Python 3 (ipykernel)",
   "language": "python",
   "name": "python3"
  },
  "language_info": {
   "codemirror_mode": {
    "name": "ipython",
    "version": 3
   },
   "file_extension": ".py",
   "mimetype": "text/x-python",
   "name": "python",
   "nbconvert_exporter": "python",
   "pygments_lexer": "ipython3",
   "version": "3.10.11"
  }
 },
 "nbformat": 4,
 "nbformat_minor": 5
}
