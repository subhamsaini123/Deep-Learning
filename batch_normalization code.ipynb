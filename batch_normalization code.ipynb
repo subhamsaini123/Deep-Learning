{
 "cells": [
  {
   "cell_type": "code",
   "execution_count": 21,
   "id": "2174c56e",
   "metadata": {},
   "outputs": [],
   "source": [
    "import tensorflow\n",
    "from tensorflow import keras\n",
    "from keras.layers import Dense,Conv2D,Flatten,BatchNormalization\n",
    "from keras import Sequential\n",
    "import numpy as np\n",
    "import pandas as pd"
   ]
  },
  {
   "cell_type": "code",
   "execution_count": 30,
   "id": "adfc54a6",
   "metadata": {},
   "outputs": [],
   "source": [
    "# df = pd.read_csv('/content/concertriccir2.csv')\n",
    "# df.head()"
   ]
  },
  {
   "cell_type": "code",
   "execution_count": 23,
   "id": "30da0f39",
   "metadata": {},
   "outputs": [],
   "source": [
    "# plt.scatter(df['X'],df['Y'],c=df['class'])"
   ]
  },
  {
   "cell_type": "code",
   "execution_count": 24,
   "id": "664b3700",
   "metadata": {},
   "outputs": [],
   "source": [
    "# X = df.iloc[:,0:2].values\n",
    "# y = df.iloc[:,-1].values"
   ]
  },
  {
   "cell_type": "code",
   "execution_count": 25,
   "id": "b2c2e3c0",
   "metadata": {},
   "outputs": [],
   "source": [
    "# model=Sequential()\n",
    "# model.add(Dense(3,activation=\"relu\",input_dim=2))\n",
    "# model.add(BatchNormalization())\n",
    "# model.add(Dense(2,activation=\"relu\"))\n",
    "# model.add(BatchNormalization())\n",
    "# model.add(Dense(1,activation=\"softmax\"))\n",
    "\n"
   ]
  },
  {
   "cell_type": "code",
   "execution_count": 26,
   "id": "e323d8c7",
   "metadata": {},
   "outputs": [],
   "source": [
    "# model.summary()"
   ]
  },
  {
   "cell_type": "code",
   "execution_count": 27,
   "id": "2ff61ba1",
   "metadata": {},
   "outputs": [],
   "source": [
    "# model.compile(loss='binary_crossentropy',optimizer='adam',metrics=['accuracy'])"
   ]
  },
  {
   "cell_type": "code",
   "execution_count": 28,
   "id": "13d9a4a7",
   "metadata": {},
   "outputs": [],
   "source": [
    "# history2 = model.fit(x_train,y_train,epochs=5,validation_split=0.2)"
   ]
  },
  {
   "cell_type": "code",
   "execution_count": null,
   "id": "38115c99",
   "metadata": {},
   "outputs": [],
   "source": [
    "# plt.plot(history1.history['val_accuracy'],color='black')\n",
    "# plt.plot(history2.history['val_accuracy'],color='green')"
   ]
  }
 ],
 "metadata": {
  "kernelspec": {
   "display_name": "Python 3 (ipykernel)",
   "language": "python",
   "name": "python3"
  },
  "language_info": {
   "codemirror_mode": {
    "name": "ipython",
    "version": 3
   },
   "file_extension": ".py",
   "mimetype": "text/x-python",
   "name": "python",
   "nbconvert_exporter": "python",
   "pygments_lexer": "ipython3",
   "version": "3.10.11"
  }
 },
 "nbformat": 4,
 "nbformat_minor": 5
}
